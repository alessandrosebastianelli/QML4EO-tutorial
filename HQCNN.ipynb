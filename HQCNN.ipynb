{
  "cells": [
    {
      "cell_type": "markdown",
      "metadata": {
        "id": "Gb0Sogigom9N"
      },
      "source": [
        "# Hybrid Quantum Convolutional Neural Netwoks for Earth Observation Classification\n",
        "![](https://ieeexplore.ieee.org/mediastore_new/IEEE/content/media/4609443/9656571/9647979/sebas9-3134785-large.gif)\n",
        "\n",
        "\n",
        "Please refer to the following articles to get more insight about this topic:\n",
        "    - Sebastianelli, A., Zaidenberg, D. A., Spiller, D., Le Saux, B., & Ullo, S. L. (2021). On circuit-based hybrid quantum neural networks for remote sensing imagery classification. IEEE Journal of Selected Topics in Applied Earth Observations and Remote Sensing, 15, 565-580.\n",
        "    - Zaidenberg, D. A., Sebastianelli, A., Spiller, D., Le Saux, B., & Ullo, S. L. (2021, July). Advantages and bottlenecks of quantum machine learning for remote sensing. In 2021 IEEE International Geoscience and Remote Sensing Symposium IGARSS (pp. 5680-5683). IEEE.\n",
        "    - Eurosat: A novel dataset and deep learning benchmark for land use and land cover classification. Patrick Helber, Benjamin Bischke, Andreas Dengel, Damian Borth. IEEE Journal of Selected Topics in Applied Earth Observations and Remote Sensing, 2019.\n",
        "    - Introducing EuroSAT: A Novel Dataset and Deep Learning Benchmark for Land Use and Land Cover Classification. Patrick Helber, Benjamin Bischke, Andreas Dengel. 2018 IEEE International Geoscience and Remote Sensing Symposium, 2018.\n",
        "    - https://qiskit.org/documentation/machine-learning/tutorials/index.html\n",
        "    - https://pennylane.ai/qml/demos_qml.html\n"
      ]
    },
    {
      "cell_type": "markdown",
      "metadata": {
        "id": "7YQNPYERPYB5"
      },
      "source": [
        "# Download the dataset\n",
        "\n",
        "In this study, we address the challenge of land use and land cover classification using Sentinel-2 satellite images. The Sentinel-2 satellite images are openly and freely accessible provided in the Earth observation program Copernicus. We present a novel dataset based on Sentinel-2 satellite images covering 13 spectral bands and consisting out of 10 classes with in total 27,000 labeled and geo-referenced images. We provide benchmarks for this novel dataset with its spectral bands using state-of-the-art deep Convolutional Neural Network (CNNs). With the proposed novel dataset, we achieved an overall classification accuracy of 98.57%. The resulting classification system opens a gate towards a number of Earth observation applications. We demonstrate how this classification system can be used for detecting land use and land cover changes and how it can assist in improving geographical maps.\n",
        "\n",
        "Get more information [here](https://github.com/phelber/EuroSAT).\n",
        "\n",
        "![](https://github.com/phelber/EuroSAT/blob/master/eurosat_overview_small.jpg?raw=true)\n",
        "\n",
        "\n"
      ]
    },
    {
      "cell_type": "markdown",
      "metadata": {
        "id": "rY_6YyKhCfsq"
      },
      "source": [
        "## Cloning repository with base code\n",
        "Basic functions are wrapped in seprated files to keep the notebook clean. Feel free to explore the code."
      ]
    },
    {
      "cell_type": "code",
      "execution_count": null,
      "metadata": {
        "id": "N5BPHQzVCj-U"
      },
      "outputs": [],
      "source": [
        "import sys\n",
        "!rm -r /content/QML-tutorial\n",
        "!git clone https://github.com/alessandrosebastianelli/QML-tutorial.git\n",
        "if '/content/QML-tutorial' not in sys.path: sys.path.append('/content/QML-tutorial')"
      ]
    },
    {
      "cell_type": "markdown",
      "metadata": {},
      "source": [
        "For this tutorial we are using the EuroSAT RGB dataset, accessible via wget. The following cell takes care of downloading, unzipping and preparing the dataset."
      ]
    },
    {
      "cell_type": "code",
      "execution_count": null,
      "metadata": {},
      "outputs": [],
      "source": [
        "!bash /content/QML-tutorial/download.sh"
      ]
    },
    {
      "cell_type": "markdown",
      "metadata": {
        "id": "DnbQLUEGom9Q"
      },
      "source": [
        "## Install missing packages"
      ]
    },
    {
      "cell_type": "code",
      "execution_count": null,
      "metadata": {},
      "outputs": [],
      "source": [
        "!pip install -r /content/QML-tutorial/requirements.txt -q"
      ]
    },
    {
      "cell_type": "code",
      "execution_count": null,
      "metadata": {
        "id": "I5onxOGy7L-b"
      },
      "outputs": [],
      "source": [
        "!pip install --upgrade hqm --no-deps -q"
      ]
    },
    {
      "cell_type": "markdown",
      "metadata": {},
      "source": []
    },
    {
      "cell_type": "markdown",
      "metadata": {
        "id": "hWThPDKS7WAi"
      },
      "source": [
        "# Network train and validation"
      ]
    },
    {
      "cell_type": "markdown",
      "metadata": {
        "id": "_3JjTDixom9S"
      },
      "source": [
        "Initialize hybrid model"
      ]
    },
    {
      "cell_type": "code",
      "execution_count": null,
      "metadata": {},
      "outputs": [],
      "source": [
        "import matplotlib.pyplot as plt\n",
        "import pytorch_lightning as pl\n",
        "import numpy as np\n",
        "import torch\n",
        "\n",
        "from hqm.circuits.angleencoding import BasicEntangledCircuit\n",
        "from hqm.layers.basiclayer import BasicLayer\n",
        "from hqm.classification.hcnn import HybridLeNet5\n",
        "import pennylane as qml"
      ]
    },
    {
      "cell_type": "code",
      "execution_count": null,
      "metadata": {},
      "outputs": [],
      "source": [
        "class HybridNet(pl.LightningModule):\n",
        "\n",
        "    def __init__(self):\n",
        "        super(HybridNet, self).__init__()\n",
        "        dev = qml.device(\"lightning.qubit\", wires=4)\n",
        "        qcircuit = BasicEntangledCircuit(n_qubits=4, n_layers=2, dev=dev)\n",
        "        qlayer = BasicLayer(qcircuit, aiframework='torch')\n",
        "        self.network = HybridLeNet5(qlayer=qlayer, in_shape=(3,64,64), ou_dim=2)\n",
        "        self.loss = torch.nn.CrossEntropyLoss()\n",
        "\n",
        "    def forward(self, x):\n",
        "        return self.network.forward(x)\n",
        "\n",
        "        \n",
        "    def training_step(self, batch, batch_idx):\n",
        "        inputs, labels = batch\n",
        "        outputs = self(inputs)\n",
        "\n",
        "        #print(labels, outputs)\n",
        "\n",
        "        loss      = self.loss(outputs, labels)\n",
        "        # For example, log accuracy\n",
        "        _, predicted = torch.max(outputs.data, 1)\n",
        "        accuracy = torch.sum(predicted == labels.data).item() / labels.size(0)\n",
        "\n",
        "        # Logging info\n",
        "        self.log('train_loss', loss, on_epoch=True, prog_bar=True)\n",
        "        self.log('train_accuracy', accuracy, on_epoch=True, prog_bar=True)\n",
        "        return loss\n",
        "\n",
        "    def validation_step(self, batch, batch_idx):\n",
        "        inputs, labels = batch\n",
        "        outputs = self(inputs)\n",
        "        \n",
        "        loss      = self.loss(outputs, labels)\n",
        "        # For example, log accuracy\n",
        "        _, predicted = torch.max(outputs.data, 1)\n",
        "        accuracy = torch.sum(predicted == labels.data).item() / labels.size(0)\n",
        "\n",
        "        # Logging info\n",
        "        self.log('val_loss', loss, on_epoch=True, prog_bar=True)\n",
        "        self.log('val_accuracy', accuracy, on_epoch=True, prog_bar=True)\n",
        "        \n",
        "        return loss\n",
        "\n",
        "    def configure_optimizers(self):\n",
        "        return torch.optim.Adam(self.parameters(), lr=0.0001)\n"
      ]
    },
    {
      "cell_type": "code",
      "execution_count": null,
      "metadata": {
        "id": "I50usU_LtDxj"
      },
      "outputs": [],
      "source": [
        "from pytorch_lightning.callbacks import ModelCheckpoint\n",
        "import pytorch_lightning as pl\n",
        "import torch\n",
        "import sys\n",
        "import os\n",
        "\n",
        "from dataio.loader import EuroSATDataModule\n",
        "\n",
        "\n",
        "torch.set_float32_matmul_precision('high')\n",
        "\n",
        "data_module = EuroSATDataModule(num_workers=16, batch_size=8)\n",
        "\n",
        "tb_logger = pl.loggers.TensorBoardLogger(os.path.join('lightning_logs','classifiers'), name='EuroSATClassifier')\n",
        "\n",
        "# Instantiate ModelCheckpoint callback\n",
        "checkpoint_callback = ModelCheckpoint(\n",
        "    dirpath=os.path.join('saved_models','classifiers'),\n",
        "    filename='EuroSATClassifier',\n",
        "    monitor='val_loss',\n",
        "    save_top_k=1,\n",
        "    mode='min',\n",
        ")\n",
        "\n",
        "# Instantiate LightningModule and DataModule\n",
        "model = HybridNet()\n",
        "\n",
        "# Instantiate Trainer\n",
        "trainer = pl.Trainer(max_epochs=30, callbacks=[checkpoint_callback], logger=tb_logger, accelerator=\"cpu\")\n",
        "\n",
        "# Train the model\n",
        "trainer.fit(model, data_module)"
      ]
    },
    {
      "cell_type": "code",
      "execution_count": null,
      "metadata": {},
      "outputs": [],
      "source": []
    }
  ],
  "metadata": {
    "colab": {
      "provenance": []
    },
    "kernelspec": {
      "display_name": "Python 3 (ipykernel)",
      "language": "python",
      "name": "python3"
    },
    "language_info": {
      "codemirror_mode": {
        "name": "ipython",
        "version": 3
      },
      "file_extension": ".py",
      "mimetype": "text/x-python",
      "name": "python",
      "nbconvert_exporter": "python",
      "pygments_lexer": "ipython3",
      "version": "3.10.13"
    }
  },
  "nbformat": 4,
  "nbformat_minor": 0
}
